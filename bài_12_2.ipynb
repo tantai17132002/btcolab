{
  "nbformat": 4,
  "nbformat_minor": 0,
  "metadata": {
    "colab": {
      "name": "bài 12.2.ipynb",
      "provenance": [],
      "authorship_tag": "ABX9TyOW03dLMztNOrj5Ksg+WR07",
      "include_colab_link": true
    },
    "kernelspec": {
      "name": "python3",
      "display_name": "Python 3"
    }
  },
  "cells": [
    {
      "cell_type": "markdown",
      "metadata": {
        "id": "view-in-github",
        "colab_type": "text"
      },
      "source": [
        "<a href=\"https://colab.research.google.com/github/tantai17132002/btcolab/blob/main/b%C3%A0i_12_2.ipynb\" target=\"_parent\"><img src=\"https://colab.research.google.com/assets/colab-badge.svg\" alt=\"Open In Colab\"/></a>"
      ]
    },
    {
      "cell_type": "code",
      "metadata": {
        "colab": {
          "base_uri": "https://localhost:8080/"
        },
        "id": "kBEanUjNeHwJ",
        "outputId": "27ba0169-6c90-42fc-db22-1c92ce045d16"
      },
      "source": [
        "import random,string\n",
        "x=random.randint(2, 10)\n",
        "letters = string.ascii_lowercase \n",
        "n = ''.join(random.choice(letters) for i in range(x))\n",
        "m=random.randint(0, 100)\n",
        "proboy={'name': n,'age': m }\n",
        "print(\"dictionary= \",proboy)"
      ],
      "execution_count": 2,
      "outputs": [
        {
          "output_type": "stream",
          "text": [
            "dictionary=  {'name': 'stxj', 'age': 27}\n"
          ],
          "name": "stdout"
        }
      ]
    }
  ]
}