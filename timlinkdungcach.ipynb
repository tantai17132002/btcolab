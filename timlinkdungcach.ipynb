{
  "nbformat": 4,
  "nbformat_minor": 0,
  "metadata": {
    "colab": {
      "name": "timlinkdungcach.ipynb",
      "provenance": [],
      "authorship_tag": "ABX9TyNEIaLbfPsSBdGl+CQvBNXF",
      "include_colab_link": true
    },
    "kernelspec": {
      "name": "python3",
      "display_name": "Python 3"
    }
  },
  "cells": [
    {
      "cell_type": "markdown",
      "metadata": {
        "id": "view-in-github",
        "colab_type": "text"
      },
      "source": [
        "<a href=\"https://colab.research.google.com/github/tantai17132002/btcolab/blob/main/timlinkdungcach.ipynb\" target=\"_parent\"><img src=\"https://colab.research.google.com/assets/colab-badge.svg\" alt=\"Open In Colab\"/></a>"
      ]
    },
    {
      "cell_type": "markdown",
      "metadata": {
        "id": "aVr335XN0Qc_"
      },
      "source": [
        "- Để tìm đoạn link đúng dạng ta dùng thư viện: re và BeautifulSoup."
      ]
    },
    {
      "cell_type": "code",
      "metadata": {
        "id": "IxKxv7Y60H4E"
      },
      "source": [
        "import re\r\n",
        "import requests\r\n",
        "from bs4 import BeautifulSoup\r\n",
        "\r\n",
        "dl = requests.get('https://anime47.com/')"
      ],
      "execution_count": 52,
      "outputs": []
    },
    {
      "cell_type": "markdown",
      "metadata": {
        "id": "m8Ae8Mhh1kPd"
      },
      "source": [
        "Đưa mã HTML vừa được request về dạng đẹp với lệnh:"
      ]
    },
    {
      "cell_type": "code",
      "metadata": {
        "id": "PousVNg918du"
      },
      "source": [
        "dl_soup = BeautifulSoup(dl.text,'html.parser')"
      ],
      "execution_count": 53,
      "outputs": []
    },
    {
      "cell_type": "markdown",
      "metadata": {
        "id": "BVWasl3o2NJr"
      },
      "source": [
        "Tìm tới những vị trí mà thẻ a href được đặt tên, vì thẻ này được đặt tên khác nhau tùy theo từng trang:"
      ]
    },
    {
      "cell_type": "code",
      "metadata": {
        "colab": {
          "base_uri": "https://localhost:8080/"
        },
        "id": "BFOahImp2Mqw",
        "outputId": "f3b2519c-e258-460d-ff7d-758bd1b074f1"
      },
      "source": [
        "results = dl_soup('a', attrs={'href':True})\r\n",
        "results[0:10]"
      ],
      "execution_count": 54,
      "outputs": [
        {
          "output_type": "execute_result",
          "data": {
            "text/plain": [
              "[<a class=\"logo\" href=\"/\" title=\"ANIME VIETSUB ONLINE HD\"><span>ANIME47.COM</span></a>,\n",
              " <a class=\"button-register\" href=\"/members/register.html\" rel=\"nofollow\"></a>,\n",
              " <a class=\"button-login\" href=\"members/login.html\" rel=\"nofollow\"></a>,\n",
              " <a class=\"button-login-with-fb\" href=\"/members/login.html\" rel=\"nofollow\"></a>,\n",
              " <a href=\"/\">Trang Chá»§</a>,\n",
              " <a href=\"./the-loai/doi-thuong-38/1.html\">Äá»i ThÆ°á»ng</a>,\n",
              " <a href=\"./the-loai/harem-36/1.html\">Harem</a>,\n",
              " <a href=\"./the-loai/shounen-35/1.html\">Shounen</a>,\n",
              " <a href=\"./the-loai/hoc-duong-33/1.html\">Há»c ÄÆ°á»ng</a>,\n",
              " <a href=\"./the-loai/the-thao-32/1.html\">Thá» Thao</a>]"
            ]
          },
          "metadata": {
            "tags": []
          },
          "execution_count": 54
        }
      ]
    },
    {
      "cell_type": "markdown",
      "metadata": {
        "id": "gQcJ3TrP42Xs"
      },
      "source": [
        "Các đường link có 1 số không có \"html\" ở đằng sau và \"htpp\" ở trước:"
      ]
    },
    {
      "cell_type": "code",
      "metadata": {
        "colab": {
          "base_uri": "https://localhost:8080/"
        },
        "id": "wbbYzfJg43Bn",
        "outputId": "4f814ade-0623-4963-9159-7f2baaf0734e"
      },
      "source": [
        "a = set()\r\n",
        "for i in results:\r\n",
        "  a.add(i['href'])\r\n",
        "\r\n",
        "list(a)[0:20]"
      ],
      "execution_count": 55,
      "outputs": [
        {
          "output_type": "execute_result",
          "data": {
            "text/plain": [
              "['./the-loai/hoat-hinh-trung-quoc-75/1.html',\n",
              " '/phim/thien-hoang-chien-than/m7827.html',\n",
              " '/phim/jaku-chara-tomozaki-kun/m7770.html',\n",
              " '/phim/munou-na-nana/m7709.html',\n",
              " './danh-sach/anime-mua-moi-update.html',\n",
              " '/',\n",
              " '/phim/inu-to-neko-docchi-mo-katteru-to-mainichi-tanoshii/m7684.html',\n",
              " '/phim/cong-chua-ban-yeu-sengoku-otogizoushi/m7687.html',\n",
              " './the-loai/yaoi-74/1.html',\n",
              " './the-loai/trinh-tham-30/1.html',\n",
              " './the-loai/samurai-72/1.html',\n",
              " '/phim/ban-thiet-ke-cua-thien-duong/m7778.html',\n",
              " './tim-nang-cao/?status=&season=6&year=2020&sort=comment',\n",
              " './danh-sach/xem-nhieu-trong-tuan.html',\n",
              " '/phim/naruto-shippuuden/m4742.html',\n",
              " '/phim/king-s-raid-ishi-wo-tsugumono-tachi/m7750.html',\n",
              " './tim-nang-cao/?status=&season=&year=2019&sort=popular',\n",
              " './tim-nang-cao/?status=&genres=38&genres=33&season=&year=&sort=popular',\n",
              " '/phim/hataraku-saibou/m7765.html',\n",
              " '/phim/pokemon-2019/m7433.html']"
            ]
          },
          "metadata": {
            "tags": []
          },
          "execution_count": 55
        }
      ]
    },
    {
      "cell_type": "markdown",
      "metadata": {
        "id": "_xOdPS2v6ACX"
      },
      "source": [
        "sử dụng RegEx"
      ]
    },
    {
      "cell_type": "code",
      "metadata": {
        "colab": {
          "base_uri": "https://localhost:8080/"
        },
        "id": "UTERHLkz6AyV",
        "outputId": "72e5bfab-7dd9-4041-c642-101c338da516"
      },
      "source": [
        "vd = '^(http).*(html)$'\r\n",
        "url = 'https://anime47.com/phim/boruto-naruto-next-generations/m6106.html'\r\n",
        "url_2 = 'https://anime47.com/phim/kamen-rider-saber/m7753.html'\r\n",
        "re.match(vd,url)"
      ],
      "execution_count": 58,
      "outputs": [
        {
          "output_type": "execute_result",
          "data": {
            "text/plain": [
              "<_sre.SRE_Match object; span=(0, 66), match='https://anime47.com/phim/boruto-naruto-next-gener>"
            ]
          },
          "metadata": {
            "tags": []
          },
          "execution_count": 58
        }
      ]
    },
    {
      "cell_type": "code",
      "metadata": {
        "colab": {
          "base_uri": "https://localhost:8080/"
        },
        "id": "GoRZAh4r-c0Z",
        "outputId": "eee3c19c-b6a2-4581-dcea-982c8b90daf4"
      },
      "source": [
        "re.match(vd,url_2)"
      ],
      "execution_count": 59,
      "outputs": [
        {
          "output_type": "execute_result",
          "data": {
            "text/plain": [
              "<_sre.SRE_Match object; span=(0, 53), match='https://anime47.com/phim/kamen-rider-saber/m7753.>"
            ]
          },
          "metadata": {
            "tags": []
          },
          "execution_count": 59
        }
      ]
    },
    {
      "cell_type": "markdown",
      "metadata": {
        "id": "GDwGQSVz_V-X"
      },
      "source": [
        "- Như vậy url thỏa mãn yêu cầu của mẫu đề ra."
      ]
    },
    {
      "cell_type": "markdown",
      "metadata": {
        "id": "JdBsqW1w_hAg"
      },
      "source": [
        "Bắt đầu tìm link hợp lý:"
      ]
    },
    {
      "cell_type": "code",
      "metadata": {
        "colab": {
          "base_uri": "https://localhost:8080/"
        },
        "id": "kfKOSTXw_f2a",
        "outputId": "8e9f9fc0-fffc-4b5f-a447-b6c7c4026198"
      },
      "source": [
        "url_tim_duoc = set()\r\n",
        "for i in results:\r\n",
        "    a = i['href']\r\n",
        "    vd = '^(https://anime47.com/).*(html|epi)$'\r\n",
        "    vd2 = '^/.*(html|epi)$'\r\n",
        "    if re.match(vd, a):\r\n",
        "        url_tim_duoc.add(a)\r\n",
        "    else:\r\n",
        "        if re.match(vd2, a):\r\n",
        "            url_lien_quan = 'https://anime47.com/' + a\r\n",
        "            url_tim_duoc.add(url_lien_quan)\r\n",
        "\r\n",
        "list(url_tim_duoc)[0:10]\r\n"
      ],
      "execution_count": 60,
      "outputs": [
        {
          "output_type": "execute_result",
          "data": {
            "text/plain": [
              "['https://anime47.com//phim/2-43-seiin-koukou-danshi-volley-bu/m7774.html',\n",
              " 'https://anime47.com//phim/osomatsu-san-3rd-season/m7711.html',\n",
              " 'https://anime47.com//phim/kimi-to-boku-no-saigo-no-senjou-aruiwa-sekai-ga-hajimaru-seisen/m7669.html',\n",
              " 'https://anime47.com//phim/hyakka-ryouran-samurai-girls/m2747.html',\n",
              " 'https://anime47.com//phim/higurashi-no-naku-koro-ni-2020/m7721.html',\n",
              " 'https://anime47.com//phim/overlord/m5108.html',\n",
              " 'https://anime47.com//phim/captain-tsubasa-road-to-2002/m1567.html',\n",
              " 'https://anime47.com//phim/kuzu-no-honkai-uoc-nguyen-cua-ke-can-ba/m6081.html',\n",
              " 'https://anime47.com//phim/ban-thiet-ke-cua-thien-duong/m7778.html',\n",
              " 'https://anime47.com//phim/inu-to-neko-docchi-mo-katteru-to-mainichi-tanoshii/m7684.html']"
            ]
          },
          "metadata": {
            "tags": []
          },
          "execution_count": 60
        }
      ]
    }
  ]
}