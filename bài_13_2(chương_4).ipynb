{
  "nbformat": 4,
  "nbformat_minor": 0,
  "metadata": {
    "kernelspec": {
      "display_name": "Python 3",
      "language": "python",
      "name": "python3"
    },
    "language_info": {
      "codemirror_mode": {
        "name": "ipython",
        "version": 3
      },
      "file_extension": ".py",
      "mimetype": "text/x-python",
      "name": "python",
      "nbconvert_exporter": "python",
      "pygments_lexer": "ipython3",
      "version": "3.8.5"
    },
    "colab": {
      "name": "bài 13.2(chương 4).ipynb",
      "provenance": [],
      "include_colab_link": true
    }
  },
  "cells": [
    {
      "cell_type": "markdown",
      "metadata": {
        "id": "view-in-github",
        "colab_type": "text"
      },
      "source": [
        "<a href=\"https://colab.research.google.com/github/tantai17132002/btcolab/blob/main/b%C3%A0i_13_2(ch%C6%B0%C6%A1ng_4).ipynb\" target=\"_parent\"><img src=\"https://colab.research.google.com/assets/colab-badge.svg\" alt=\"Open In Colab\"/></a>"
      ]
    },
    {
      "cell_type": "markdown",
      "metadata": {
        "id": "zrShoLhf_gg9"
      },
      "source": [
        "# 13.2.1: nhập tên thư mục từ bàn phím và tạo thư mục."
      ]
    },
    {
      "cell_type": "code",
      "metadata": {
        "id": "QHA95OQA_gg-",
        "outputId": "19330c35-dfa6-4c3f-dba5-691ecf5affbb"
      },
      "source": [
        "import os\n",
        "path = 'E:\\\\'\n",
        "os.chdir(path)\n",
        "print(os.listdir(path))\n",
        "os.mkdir('tai')\n",
        "print(os.listdir(path))"
      ],
      "execution_count": null,
      "outputs": [
        {
          "output_type": "stream",
          "text": [
            "['$RECYCLE.BIN', 'Backup', 'Book', 'Document', 'Software', 'System Volume Information']\n",
            "['$RECYCLE.BIN', 'Backup', 'Book', 'Document', 'Software', 'System Volume Information', 'tai']\n"
          ],
          "name": "stdout"
        }
      ]
    },
    {
      "cell_type": "markdown",
      "metadata": {
        "id": "DdwdjrRR_ghA"
      },
      "source": [
        "# 13.2.2: Nhập tên tập tin từ bàn phím và tạo tập tin vào thư mục mới tạo ở trên:"
      ]
    },
    {
      "cell_type": "markdown",
      "metadata": {
        "id": "9y4XJBuV_ghB"
      },
      "source": [
        "     # 13.2.2A: Tạo tệp tin."
      ]
    },
    {
      "cell_type": "code",
      "metadata": {
        "id": "r3z6Ff6E_ghB",
        "outputId": "9cc92fd6-9d51-4865-984d-1d7a380d4839"
      },
      "source": [
        "import os\n",
        "a = open(\"tantai.txt\",\"x\")\n",
        "print(os.getcwd())"
      ],
      "execution_count": null,
      "outputs": [
        {
          "output_type": "stream",
          "text": [
            "E:\\\n"
          ],
          "name": "stdout"
        }
      ]
    },
    {
      "cell_type": "markdown",
      "metadata": {
        "id": "ARFraLHm_ghB"
      },
      "source": [
        "     # 13.2.2B: Di truyển tập tin vừa mới tạo vào thư mục ở trên."
      ]
    },
    {
      "cell_type": "code",
      "metadata": {
        "id": "gbnlKBSs_ghB"
      },
      "source": [
        "import os\n",
        "import shutil\n",
        "a = open(\"tantai.txt\",\"x\")\n",
        "os.rename(\"E:/tantai.txt\",\"E:/tai\")"
      ],
      "execution_count": null,
      "outputs": []
    }
  ]
}