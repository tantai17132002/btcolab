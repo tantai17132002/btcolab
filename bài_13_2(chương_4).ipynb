{
  "nbformat": 4,
  "nbformat_minor": 0,
  "metadata": {
    "kernelspec": {
      "display_name": "Python 3",
      "language": "python",
      "name": "python3"
    },
    "language_info": {
      "codemirror_mode": {
        "name": "ipython",
        "version": 3
      },
      "file_extension": ".py",
      "mimetype": "text/x-python",
      "name": "python",
      "nbconvert_exporter": "python",
      "pygments_lexer": "ipython3",
      "version": "3.8.5"
    },
    "colab": {
      "name": "bài 13.2(chương 4).ipynb",
      "provenance": [],
      "include_colab_link": true
    }
  },
  "cells": [
    {
      "cell_type": "markdown",
      "metadata": {
        "id": "view-in-github",
        "colab_type": "text"
      },
      "source": [
        "<a href=\"https://colab.research.google.com/github/tantai17132002/btcolab/blob/main/b%C3%A0i_13_2(ch%C6%B0%C6%A1ng_4).ipynb\" target=\"_parent\"><img src=\"https://colab.research.google.com/assets/colab-badge.svg\" alt=\"Open In Colab\"/></a>"
      ]
    },
    {
      "cell_type": "markdown",
      "metadata": {
        "id": "jC2S0-Jxi0bF"
      },
      "source": [
        "# 13.2.1: Nhập tên thư mục từ bàn phím và tạo thư mục."
      ]
    },
    {
      "cell_type": "code",
      "metadata": {
        "id": "hVtzvBS0i0bF",
        "outputId": "46adc377-7051-436e-d6a7-aaef2149a21a"
      },
      "source": [
        "import os\n",
        "path = 'E:\\\\'\n",
        "os.chdir(path)\n",
        "print(os.listdir(path))\n",
        "os.mkdir('tai')\n",
        "print(os.listdir(path))"
      ],
      "execution_count": null,
      "outputs": [
        {
          "output_type": "stream",
          "text": [
            "['$RECYCLE.BIN', 'Backup', 'Book', 'Document', 'Software', 'System Volume Information']\n",
            "['$RECYCLE.BIN', 'Backup', 'Book', 'Document', 'Software', 'System Volume Information', 'tai']\n"
          ],
          "name": "stdout"
        }
      ]
    },
    {
      "cell_type": "markdown",
      "metadata": {
        "id": "QmV2Y12ii0bG"
      },
      "source": [
        "# 13.2.2: Nhập tên tập tin từ bàn phím và tạo tập tin vào thư mục mới tạo ở trên:"
      ]
    },
    {
      "cell_type": "markdown",
      "metadata": {
        "id": "pex8LFsii0bG"
      },
      "source": [
        "     # 13.2.2A: Tạo tệp tin."
      ]
    },
    {
      "cell_type": "code",
      "metadata": {
        "id": "4cQfZq-ji0bG",
        "outputId": "0690fce0-13ee-4bc0-f610-c19e494005b8"
      },
      "source": [
        "import os\n",
        "a = open(\"leadertai.txt\",\"x\")\n",
        "a.close()\n",
        "print(\"Đã tạo tệp tin thành công và được lưu ở ổ đĩa phía dưới:\")\n",
        "print(os.getcwd())"
      ],
      "execution_count": null,
      "outputs": [
        {
          "output_type": "stream",
          "text": [
            "Đã tạo tệp tin thành công và được lưu ở ổ đĩa phía dưới:\n",
            "E:\\\n"
          ],
          "name": "stdout"
        }
      ]
    },
    {
      "cell_type": "markdown",
      "metadata": {
        "id": "qIUfNZsmi0bG"
      },
      "source": [
        "     # 13.2.2B: Di truyển tập tin vừa mới tạo vào thư mục ở trên."
      ]
    },
    {
      "cell_type": "code",
      "metadata": {
        "id": "OBH9izVVi0bG",
        "outputId": "6ceb0ea5-7cd5-49d8-9510-cb2e58e841c1"
      },
      "source": [
        "import os\n",
        "import shutil\n",
        "shutil.move(\"E:/leadertai.txt\",\"E:/tai\")"
      ],
      "execution_count": null,
      "outputs": [
        {
          "output_type": "execute_result",
          "data": {
            "text/plain": [
              "'E:/tai\\\\leadertai.txt'"
            ]
          },
          "metadata": {
            "tags": []
          },
          "execution_count": 22
        }
      ]
    }
  ]
}