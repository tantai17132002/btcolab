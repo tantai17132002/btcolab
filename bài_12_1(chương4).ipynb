{
  "nbformat": 4,
  "nbformat_minor": 0,
  "metadata": {
    "colab": {
      "name": "bài 12.1(chương4).ipynb",
      "provenance": [],
      "collapsed_sections": [],
      "authorship_tag": "ABX9TyPVNwzLRzpU7XRd+ZsDrk9W",
      "include_colab_link": true
    },
    "kernelspec": {
      "name": "python3",
      "display_name": "Python 3"
    }
  },
  "cells": [
    {
      "cell_type": "markdown",
      "metadata": {
        "id": "view-in-github",
        "colab_type": "text"
      },
      "source": [
        "<a href=\"https://colab.research.google.com/github/tantai17132002/btcolab/blob/main/b%C3%A0i_12_1(ch%C6%B0%C6%A1ng4).ipynb\" target=\"_parent\"><img src=\"https://colab.research.google.com/assets/colab-badge.svg\" alt=\"Open In Colab\"/></a>"
      ]
    },
    {
      "cell_type": "code",
      "metadata": {
        "id": "7ywTMs7P0yoH",
        "colab": {
          "base_uri": "https://localhost:8080/"
        },
        "outputId": "0be1ccc1-d0b2-47c0-fe02-fc6e1c997b82"
      },
      "source": [
        "#1.tạo 1 số nguyên ngẫu nhiên n trong khoảng [50,1000] đóng vai trò là số phần tử của list\n",
        "import random\n",
        "n=random.randint(50, 1000)\n",
        "print([n])\n",
        "\n",
        "#2.Sinh ngẫu nhiên 1 List các số nguyên trong khoảng [-1000, 1000]\n",
        "import random\n",
        "randomlist = []\n",
        "n=int(input(\" nhập vào số phần tử của list: \"))\n",
        "for a in range (n):\n",
        "    b = random.randint(-1000,1000)\n",
        "    randomlist.append(b)\n",
        "print(randomlist)\n",
        "\n",
        "#3.Sinh ngẫu nhiên 1 List các số thực tỏng khoảng [-1000.0, 1000.0]\n",
        "import numpy as np\n",
        "n = int(input(\"nhap vao so phan tu cua list= \"))\n",
        "rd = np.random.random_sample(size=n)*-1000.0+1000.0\n",
        "print(\"list= \",rd)"
      ],
      "execution_count": 7,
      "outputs": [
        {
          "output_type": "stream",
          "text": [
            "[756]\n",
            " nhập vào số phần tử của list: 10\n",
            "[-383, 8, -261, 413, -658, -60, 892, 235, -435, -377]\n",
            "nhap vao so phan tu cua list= 10\n",
            "list=  [484.67557831 252.06750719 166.613493   465.96844785 673.26054105\n",
            " 749.27236525 571.83346891 553.03059823 196.44691627 974.71120372]\n"
          ],
          "name": "stdout"
        }
      ]
    }
  ]
}