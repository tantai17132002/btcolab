{
  "nbformat": 4,
  "nbformat_minor": 0,
  "metadata": {
    "colab": {
      "name": "bài 11(chương 4).ipynb",
      "provenance": [],
      "authorship_tag": "ABX9TyMJ9Q8ng+ZDrQRu5pqmznDe",
      "include_colab_link": true
    },
    "kernelspec": {
      "name": "python3",
      "display_name": "Python 3"
    }
  },
  "cells": [
    {
      "cell_type": "markdown",
      "metadata": {
        "id": "view-in-github",
        "colab_type": "text"
      },
      "source": [
        "<a href=\"https://colab.research.google.com/github/tantai17132002/btcolab/blob/main/b%C3%A0i_11(ch%C6%B0%C6%A1ng_4).ipynb\" target=\"_parent\"><img src=\"https://colab.research.google.com/assets/colab-badge.svg\" alt=\"Open In Colab\"/></a>"
      ]
    },
    {
      "cell_type": "code",
      "metadata": {
        "colab": {
          "base_uri": "https://localhost:8080/"
        },
        "id": "H6Ff3Q4GLXyU",
        "outputId": "c9aeab95-f206-4c5a-a620-70143d679aaa"
      },
      "source": [
        "list2 = [({'name': 'Peter', 'age':2}, {'name': 'John', 'age':21}), \n",
        "         ({'name': 'Mary', 'age':2}, {'name': 'Trandanpro', 'age':21}), \n",
        "         ({'name': 'Nam', 'age':2}, {'name': 'Hung', 'age':21}), \n",
        "         ({'name': 'Mai', 'age':2}, {'name': 'Loan', 'age':21})]\n",
        "for a in list2:\n",
        "    for b in a:\n",
        "     print(b)\n",
        "     for c,d in enumerate(b,2):\n",
        "         print(c,d,\":\",b[d])\n",
        "         \n",
        "         \n",
        "         \n",
        "         "
      ],
      "execution_count": null,
      "outputs": [
        {
          "output_type": "stream",
          "text": [
            "{'name': 'Peter', 'age': 2}\n",
            "2 name : Peter\n",
            "3 age : 2\n",
            "{'name': 'John', 'age': 21}\n",
            "2 name : John\n",
            "3 age : 21\n",
            "{'name': 'Mary', 'age': 2}\n",
            "2 name : Mary\n",
            "3 age : 2\n",
            "{'name': 'Trandanpro', 'age': 21}\n",
            "2 name : Trandanpro\n",
            "3 age : 21\n",
            "{'name': 'Nam', 'age': 2}\n",
            "2 name : Nam\n",
            "3 age : 2\n",
            "{'name': 'Hung', 'age': 21}\n",
            "2 name : Hung\n",
            "3 age : 21\n",
            "{'name': 'Mai', 'age': 2}\n",
            "2 name : Mai\n",
            "3 age : 2\n",
            "{'name': 'Loan', 'age': 21}\n",
            "2 name : Loan\n",
            "3 age : 21\n"
          ],
          "name": "stdout"
        }
      ]
    }
  ]
}