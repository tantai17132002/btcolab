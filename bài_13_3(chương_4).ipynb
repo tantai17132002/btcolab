{
  "nbformat": 4,
  "nbformat_minor": 0,
  "metadata": {
    "kernelspec": {
      "display_name": "Python 3",
      "language": "python",
      "name": "python3"
    },
    "language_info": {
      "codemirror_mode": {
        "name": "ipython",
        "version": 3
      },
      "file_extension": ".py",
      "mimetype": "text/x-python",
      "name": "python",
      "nbconvert_exporter": "python",
      "pygments_lexer": "ipython3",
      "version": "3.8.5"
    },
    "colab": {
      "name": "bài 13.3(chương 4).ipynb",
      "provenance": [],
      "include_colab_link": true
    }
  },
  "cells": [
    {
      "cell_type": "markdown",
      "metadata": {
        "id": "view-in-github",
        "colab_type": "text"
      },
      "source": [
        "<a href=\"https://colab.research.google.com/github/tantai17132002/btcolab/blob/main/b%C3%A0i_13_3(ch%C6%B0%C6%A1ng_4).ipynb\" target=\"_parent\"><img src=\"https://colab.research.google.com/assets/colab-badge.svg\" alt=\"Open In Colab\"/></a>"
      ]
    },
    {
      "cell_type": "code",
      "metadata": {
        "id": "AKSKAmdE7FO7",
        "outputId": "31dd0f5f-dedb-4231-96b3-8a2c7a7f3f44"
      },
      "source": [
        "import random\n",
        "import string\n",
        "#13.1.1: Nhập dung lượng dữ liệu giới hạn là  1MB <= size <= 1024MB.\n",
        "dulieu=int(input('nhập giới hạn dữ liệu(MB)= '))\n",
        "while (dulieu<1 or dulieu>1024):\n",
        "     dulieu = int(input('nhập lại giới hạn dữ liệu (1->1024MB)= '))\n",
        "#13.1.2: Giới hạn dung lượng mỗi file là  1000KB.\n",
        "t=1000*1024 \n",
        "a= dulieu*(2**20)//(t) \n",
        "b= dulieu*(2**20)%(t)\n",
        "#13.3.3: Hãy sinh dữ liệu ngẫu nhiên kiểu chuỗi và lưu vào file\n",
        "f= string.ascii_lowercase*48733\n",
        "def text(): \n",
        "    c=''.join(random.sample(f,t))\n",
        "    return c\n",
        "print('số file có kích thước 1000KB là: ',a)\n",
        "print('file cuối cùng có kích thước: ',b/1024,\"KB\")\n",
        "for i in range(a): \n",
        "    file=open('tantai'+str(i+1)+'.txt' ,'x')\n",
        "    file.write(text())\n",
        "    file.close()\n",
        "if b>0: \n",
        "    file=open('proboy'+'.txt' ,'x')\n",
        "    file.write(''.join(random.sample(f,b)))\n",
        "file.close()\n",
        "print('Kết thúc')"
      ],
      "execution_count": null,
      "outputs": [
        {
          "output_type": "stream",
          "text": [
            "nhập giới hạn dữ liệu(MB)= 10\n",
            "số file có kích thước 1000KB là:  10\n",
            "file cuối cùng có kích thước:  240.0 KB\n"
          ],
          "name": "stdout"
        }
      ]
    },
    {
      "cell_type": "code",
      "metadata": {
        "id": "jXm5BGfc7FPT"
      },
      "source": [
        ""
      ],
      "execution_count": null,
      "outputs": []
    }
  ]
}