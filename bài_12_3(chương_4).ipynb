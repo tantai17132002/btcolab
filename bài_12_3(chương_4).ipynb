{
  "nbformat": 4,
  "nbformat_minor": 0,
  "metadata": {
    "colab": {
      "name": "bài 12.3(chương 4).ipynb",
      "provenance": [],
      "authorship_tag": "ABX9TyNNbQUdiv8sTHIxbsBdT+Hr",
      "include_colab_link": true
    },
    "kernelspec": {
      "name": "python3",
      "display_name": "Python 3"
    }
  },
  "cells": [
    {
      "cell_type": "markdown",
      "metadata": {
        "id": "view-in-github",
        "colab_type": "text"
      },
      "source": [
        "<a href=\"https://colab.research.google.com/github/tantai17132002/btcolab/blob/main/b%C3%A0i_12_3(ch%C6%B0%C6%A1ng_4).ipynb\" target=\"_parent\"><img src=\"https://colab.research.google.com/assets/colab-badge.svg\" alt=\"Open In Colab\"/></a>"
      ]
    },
    {
      "cell_type": "code",
      "metadata": {
        "colab": {
          "base_uri": "https://localhost:8080/"
        },
        "id": "qEw7RXkW4rMC",
        "outputId": "b1642e4e-1150-4198-c6a7-f036f74460af"
      },
      "source": [
        "#1.Tạo ngẫu nhiên số  phần tử của List  50 <= n <= 100\n",
        "import numpy as np\n",
        "import random\n",
        "n = random.randint(50,100)\n",
        "rd = np.random.random_sample(size=n)*10000-10000\n",
        "print(\"list1 = \",rd)\n",
        "\n",
        "\n",
        "#2. Tạo ngẫu nhiên List gồm n phần tử với cấu trúc sau: [{'name': ' sinh ngẫu nhiên', 'age': 'sinh ngẫu nhiên'}] có tất cả n dictionary như trên trong List.\n",
        "import random,string\n",
        "x = random.randint(2,50)\n",
        "z= list()\n",
        "for i in range (x):\n",
        "    y = random.randint(2,10)\n",
        "    t = random.choice(string.ascii_uppercase)\n",
        "    h = t+ ''.join(random.choice(string.ascii_lowercase) for i in range (y))\n",
        "    m = random.randint(0, 100)\n",
        "    k = [{'name':h, 'age':m}] \n",
        "    z.extend(k) \n",
        "print(\"list 2= \",z)\n",
        "\n"
      ],
      "execution_count": 1,
      "outputs": [
        {
          "output_type": "stream",
          "text": [
            "list1 =  [ -532.0659412  -6971.01964348 -2356.03073187 -6599.71164652\n",
            " -1082.27895689 -8194.23971799 -4210.09646445 -3198.02170531\n",
            " -3243.45923411 -8087.97105287 -2038.48754348 -5372.46263571\n",
            " -8635.71607286 -4827.24895428 -7363.72632825  -421.76847946\n",
            " -2815.47314654 -4276.35653883  -568.80112368 -3348.34856778\n",
            " -1950.5701224  -9212.49685834 -3842.19702911 -3964.45198658\n",
            "  -493.60024901 -4347.99209612 -8207.07175334 -6939.92311769\n",
            " -8803.56025468 -1442.92291594 -8875.22383643 -2868.32143813\n",
            " -8841.82437491 -2757.43554492 -6957.817683   -3162.21968117\n",
            " -2170.11686362  -377.54517198 -3862.45271438 -2948.23261018\n",
            " -6887.94545906 -7251.70815702 -7450.93542264 -1091.7186279\n",
            " -2637.38708412 -1017.01642667 -8005.02489543 -1590.70659835\n",
            " -3584.68813045 -2097.10461363  -767.64296689 -9418.04486336\n",
            "  -387.17643453 -7756.06625209 -6977.66706053 -7168.77452635\n",
            " -1095.78950565 -3233.38107873 -8478.26231755 -1936.63060339\n",
            " -4401.00030228 -9635.04497582 -3013.05604951 -3939.12774822\n",
            " -2277.54957091  -787.62209244 -4380.47031579 -2674.54149723\n",
            " -8577.18167151 -4139.40957287  -142.07600787 -1651.60663413\n",
            " -6051.45780349 -3372.4478972  -4019.93157677 -4367.60940077\n",
            " -7086.32457489 -7191.70041659 -5647.71524691 -1049.79510063\n",
            " -9743.21587627 -2574.93559588 -8769.29964311 -7785.72553801\n",
            " -3877.58829712 -3701.2487549  -3746.18525901 -9567.83284033\n",
            " -6411.85977394 -9105.35231253 -5327.20114491  -167.56521183\n",
            "  -994.6757215   -727.50772175  -121.31107118 -9124.43452813\n",
            " -3936.88871251 -6682.98370681  -452.28314947]\n",
            "list 2=  [{'name': 'Hqwx', 'age': 22}, {'name': 'Cqwyylpfmt', 'age': 17}, {'name': 'Nqfz', 'age': 9}, {'name': 'Zghcmqswh', 'age': 74}, {'name': 'Dyafdi', 'age': 23}, {'name': 'Xbshziklhqc', 'age': 37}, {'name': 'Bxcoxcg', 'age': 85}, {'name': 'Bimyvt', 'age': 53}, {'name': 'Uuannhiqq', 'age': 25}, {'name': 'Oqbggjb', 'age': 3}, {'name': 'Zocqdnp', 'age': 2}, {'name': 'Fprttke', 'age': 73}, {'name': 'Tzefxg', 'age': 43}, {'name': 'Ssnuygtikhu', 'age': 58}, {'name': 'Opgygowey', 'age': 53}, {'name': 'Ovgigtumlpa', 'age': 48}, {'name': 'Hadcu', 'age': 9}, {'name': 'Cptcffoyxu', 'age': 33}, {'name': 'Bmvllgu', 'age': 82}, {'name': 'Aanf', 'age': 33}, {'name': 'Nlmcfm', 'age': 56}, {'name': 'Izsaap', 'age': 54}, {'name': 'Ixrenbw', 'age': 77}, {'name': 'Jcfevhcuas', 'age': 99}, {'name': 'Edxprbbqbh', 'age': 34}, {'name': 'Vuxpjou', 'age': 91}, {'name': 'Cdqcmq', 'age': 2}, {'name': 'Oizxdlem', 'age': 55}, {'name': 'Googvlthkm', 'age': 23}, {'name': 'Unhyjc', 'age': 73}, {'name': 'Roeeukbpslo', 'age': 78}, {'name': 'Atjzturmlyx', 'age': 40}, {'name': 'Noxedmecto', 'age': 12}, {'name': 'Vktvpzsfsp', 'age': 57}, {'name': 'Ovrlqfkdr', 'age': 44}, {'name': 'Gjl', 'age': 26}, {'name': 'Zkr', 'age': 33}, {'name': 'Oxnwqyqilpi', 'age': 99}, {'name': 'Ronl', 'age': 48}, {'name': 'Gavmxpa', 'age': 52}, {'name': 'Cfeyqsrn', 'age': 72}, {'name': 'Tqiyld', 'age': 77}, {'name': 'Dtjonzyvh', 'age': 1}, {'name': 'Nepjql', 'age': 39}, {'name': 'Mxhyo', 'age': 58}, {'name': 'Vmm', 'age': 28}, {'name': 'Hhncmvyo', 'age': 17}, {'name': 'Cnobhxapsk', 'age': 67}, {'name': 'Wshikmanxr', 'age': 51}, {'name': 'Tsoy', 'age': 98}]\n"
          ],
          "name": "stdout"
        }
      ]
    }
  ]
}