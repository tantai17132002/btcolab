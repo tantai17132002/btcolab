{
  "nbformat": 4,
  "nbformat_minor": 0,
  "metadata": {
    "colab": {
      "name": "techniques-bs.ipynb",
      "provenance": [],
      "include_colab_link": true
    },
    "kernelspec": {
      "name": "python3",
      "display_name": "Python 3"
    }
  },
  "cells": [
    {
      "cell_type": "markdown",
      "metadata": {
        "id": "view-in-github",
        "colab_type": "text"
      },
      "source": [
        "<a href=\"https://colab.research.google.com/github/tantai17132002/btcolab/blob/main/techniques_bs%2Cwebspra.ipynb\" target=\"_parent\"><img src=\"https://colab.research.google.com/assets/colab-badge.svg\" alt=\"Open In Colab\"/></a>"
      ]
    },
    {
      "cell_type": "markdown",
      "metadata": {
        "id": "0p4UrA90orBB"
      },
      "source": [
        "Cài đặt Parser\r\n"
      ]
    },
    {
      "cell_type": "code",
      "metadata": {
        "id": "liftGWsDo0IY"
      },
      "source": [
        "from bs4 import BeautifulSoup\r\n",
        "\r\n",
        "soup = BeautifulSoup(\"<html><p>This is <b>invalid HTML</p></html>\", \"html.parser\")"
      ],
      "execution_count": 7,
      "outputs": []
    },
    {
      "cell_type": "markdown",
      "metadata": {
        "id": "nxCw7AZAZrUy"
      },
      "source": [
        "1 Tải 1 url về"
      ]
    },
    {
      "cell_type": "code",
      "metadata": {
        "id": "gUabxirVZibE"
      },
      "source": [
        "import requests\r\n",
        "import os\r\n",
        "from bs4 import BeautifulSoup\r\n",
        "\r\n",
        "url_list = ['https://game24h.vn/']\r\n",
        "url = url_list.pop(0)\r\n",
        "req = requests.get(url)\r\n",
        "htlm = soup.prettify()\r\n",
        "print(htlm)\r\n"
      ],
      "execution_count": 19,
      "outputs": []
    },
    {
      "cell_type": "markdown",
      "metadata": {
        "id": "osKHdc80ZwDV"
      },
      "source": [
        "2. Lưu 1 html vào thư mục chỉ định"
      ]
    },
    {
      "cell_type": "code",
      "metadata": {
        "id": "-gvDk-nlZzLo"
      },
      "source": [
        "f = open(\"tai_htlm\",\"x\")\r\n",
        "f.write(htlm)\r\n",
        "f.close()"
      ],
      "execution_count": 16,
      "outputs": []
    },
    {
      "cell_type": "markdown",
      "metadata": {
        "id": "BcKYLfcxZ-Hn"
      },
      "source": [
        "3. Cách lấy 1 phần tử đầu tiên ra khỏi list và xóa nó khỏi list"
      ]
    },
    {
      "cell_type": "code",
      "metadata": {
        "id": "rjRGJjQiaB-Y",
        "colab": {
          "base_uri": "https://localhost:8080/"
        },
        "outputId": "055cf150-d002-4972-d991-020dee801733"
      },
      "source": [
        "url_list = [\"https://game24h.vn/\"]\r\n",
        "url = url_list.pop(0)\r\n",
        "print (url_list)"
      ],
      "execution_count": 19,
      "outputs": [
        {
          "output_type": "stream",
          "text": [
            "[]\n"
          ],
          "name": "stdout"
        }
      ]
    },
    {
      "cell_type": "markdown",
      "metadata": {
        "id": "pfd7r87vaDSZ"
      },
      "source": [
        "4. Cách lấy các url trong html"
      ]
    },
    {
      "cell_type": "code",
      "metadata": {
        "id": "osOcronYaGuY",
        "colab": {
          "base_uri": "https://localhost:8080/"
        },
        "outputId": "3c25eba5-ec32-4106-c9b2-fc44244c5c19"
      },
      "source": [
        "web = requests.get(url)\r\n",
        "soup = BeautifulSoup(web.text,\"html.parser\")\r\n",
        "for u in soup.find_all(\"a\"):\r\n",
        "      link = u.get(\"href\")\r\n",
        "      url_list.append(link)\r\n",
        "print(url_list)"
      ],
      "execution_count": 17,
      "outputs": [
        {
          "output_type": "stream",
          "text": [
            "['https://game24h.vn', 'https://game24h.vn/game-hay-nhat-c131box55a1.html', 'https://game24h.vn/', 'https://game24h.vn/tinh-diem/lines-98-c145g632b204.html', 'https://game24h.vn/tinh-diem/pikachu-c145g1285b16.html', 'https://game24h.vn/tinh-diem/7-vien-ngoc-rong-c145g1778b16.html', 'https://game24h.vn/chu-khi-buon-c164.html', 'https://game24h.vn/ban-gai-c109.html', 'https://game24h.vn/game-ban-sung-c148.html', 'https://game24h.vn/game-nau-an-c147.html', 'https://game24h.vn/game-thoi-trang-c146.html', 'https://game24h.vn/chien-thuat-c118.html', 'https://game24h.vn/dua-xe-c117.html', 'https://game24h.vn/tri-tue-c119.html', 'https://game24h.vn/game-y8-c161.html', 'javascript:void(0);', 'https://game24h.vn/2-nguoi-choi-c126.html', 'https://game24h.vn/game-bai-c168.html', 'https://game24h.vn/game-ban-ca-c169.html', 'https://game24h.vn/ban-gai-c109.html', 'https://game24h.vn/game-ban-sung-c148.html', 'https://game24h.vn/chien-thuat-c118.html', 'https://game24h.vn/chu-khi-buon-c164.html', 'https://game24h.vn/game-cong-chua-c172.html', 'https://game24h.vn/game-dao-vang-c173.html', 'https://game24h.vn/dua-xe-c117.html', 'https://game24h.vn/game-giang-sinh-c163.html', 'https://game24h.vn/game-halloween-c162.html', 'https://game24h.vn/game-hanh-dong-c108.html', 'https://game24h.vn/game-hoat-hinh-c151.html', 'https://game24h.vn/game-kinh-di-chet-choc-c123.html', 'https://game24h.vn/game-lam-banh-c174.html', 'https://game24h.vn/game-naruto-c166.html', 'https://game24h.vn/game-nau-an-c147.html', 'https://game24h.vn/nhanh-tay-c120.html', 'https://game24h.vn/game-ninja-c171.html', 'https://game24h.vn/phieu-luu-c110.html', 'https://game24h.vn/game-sieu-nhan-c170.html', 'https://game24h.vn/game-tet-c111.html', 'https://game24h.vn/game-the-thao-c125.html', 'https://game24h.vn/game-thoi-trang-c146.html', 'https://game24h.vn/tinh-diem-c145.html', 'https://game24h.vn/tri-tue-c119.html', 'https://game24h.vn/unity-3d-c153.html', 'https://game24h.vn/game-van-phong-c150.html', 'https://game24h.vn/vui-nhon-c124.html', 'https://game24h.vn/game-y8-c161.html', 'https://game24h.vn/', 'https://m.game24h.vn/', '/ho-tro.html', 'https://game24h.vn/gop-y.html', 'https://quiznhe.com', '/game-moi-nhat-c135box69a6.html', 'https://game24h.vn/tinh-diem/minecraft-pokemon-c145g4124b16.html', 'https://game24h.vn/tinh-diem/minecraft-pokemon-c145g4124b16.html', '/game-moi-nhat-c135box69a6.html', 'https://game24h.vn/tinh-diem/pikachu-c145g1285b16.html', 'https://game24h.vn/tinh-diem/pikachu-c145g1285b16.html', '/game-moi-nhat-c135box69a6.html', 'https://game24h.vn/tinh-diem/among-us-ban-sung-c145g4565b16.html', 'https://game24h.vn/tinh-diem/among-us-ban-sung-c145g4565b16.html', '/game-moi-nhat-c135box69a6.html', 'https://game24h.vn/tinh-diem/among-us-tron-tim-c145g4568b16.html', 'https://game24h.vn/tinh-diem/among-us-tron-tim-c145g4568b16.html', 'https://game24h.vn/tinh-diem/minecraft-pokemon-c145g4124b16.html', 'https://game24h.vn/tinh-diem/pikachu-c145g1285b16.html', 'https://game24h.vn/tinh-diem/among-us-ban-sung-c145g4565b16.html', 'https://game24h.vn/tinh-diem/among-us-tron-tim-c145g4568b16.html', 'https://game24h.vn/game-hay-nhat-c131box55a1.html', 'https://game24h.vn/game-hay-nhat/dat-bom-it-5-c131g2340b15.html', 'https://game24h.vn/game-hay-nhat/dat-bom-it-5-c131g2340b15.html', 'https://game24h.vn/game-hay-nhat/pikachu-c131g1285b15.html', 'https://game24h.vn/game-hay-nhat/pikachu-c131g1285b15.html', 'https://game24h.vn/game-hay-nhat/among-us-4-c131g4569b15.html', 'https://game24h.vn/game-hay-nhat/among-us-4-c131g4569b15.html', 'https://game24h.vn/game-hay-nhat/sieu-hung-dai-chien-5-c131g2531b15.html', 'https://game24h.vn/game-hay-nhat/sieu-hung-dai-chien-5-c131g2531b15.html', 'https://game24h.vn/game-hay-nhat/7-vien-ngoc-rong-4-c131g2653b15.html', 'https://game24h.vn/game-hay-nhat/7-vien-ngoc-rong-4-c131g2653b15.html', 'https://game24h.vn/game-hay-nhat/nhay-du-ban-sung-free-fire-c131g4514b15.html', 'https://game24h.vn/game-hay-nhat/nhay-du-ban-sung-free-fire-c131g4514b15.html', 'https://game24h.vn/game-hay-nhat-c131box55a1.html', \"javascript:game_choi_nhieu_onclick('game_choi_nhieu_tab1,game_choi_nhieu_tab2,game_choi_nhieu_tab3,span_box_game_choi_nhieu,div_game_choi_nhieu,div_close_game_homepage','tabRight-o,tabRight2-o,tabRight3-o,tabLeft-o,centerBox-o-c,centerBox-o-b');AjaxAction('div_game_choi_nhieu','/ajax/game_by_homepage.php?type=trong_tuan')\", \"javascript:game_choi_nhieu_onclick('game_choi_nhieu_tab1,game_choi_nhieu_tab2,game_choi_nhieu_tab3,span_box_game_choi_nhieu,div_game_choi_nhieu,div_close_game_homepage','tabRight-o-activeTab2,tabRight2-o-activeTab2,tabRight3-o-activeTab2,tabLeft-o-activeTab2,centerBox-o-c,centerBox-o-b');AjaxAction('div_game_choi_nhieu','/ajax/game_by_homepage.php?type=trong_thang')\", \"javascript:game_choi_nhieu_onclick('game_choi_nhieu_tab1,game_choi_nhieu_tab2,game_choi_nhieu_tab3,span_box_game_choi_nhieu,div_game_choi_nhieu,div_close_game_homepage','tabRight-o-activeTab3,tabRight2-o-activeTab3,tabRight3-o-activeTab3,tabLeft-o-activeTab2,centerBox-o-c,centerBox-o-b');AjaxAction('div_game_choi_nhieu','/ajax/game_by_homepage.php?type=binh_chon')\", 'https://game24h.vn/choi-nhieu-trong-tuan/among-us-ban-sung-c132g4565b17.html', 'https://game24h.vn/choi-nhieu-trong-tuan/among-us-ban-sung-c132g4565b17.html', 'https://game24h.vn/choi-nhieu-trong-tuan/dau-truong-khac-nghiet-3-c132g2555b17.html', 'https://game24h.vn/choi-nhieu-trong-tuan/dau-truong-khac-nghiet-3-c132g2555b17.html', 'https://game24h.vn/choi-nhieu-trong-tuan/brain-out-c132g4432b17.html', 'https://game24h.vn/choi-nhieu-trong-tuan/brain-out-c132g4432b17.html', 'https://game24h.vn/choi-nhieu-trong-tuan/chu-khi-buon-209-go-monkey-happy-209-c132g4555b17.html', 'https://game24h.vn/choi-nhieu-trong-tuan/chu-khi-buon-209-go-monkey-happy-209-c132g4555b17.html', 'https://game24h.vn/choi-nhieu-trong-tuan/lines-98-c132g632b17.html', 'https://game24h.vn/choi-nhieu-trong-tuan/lines-98-c132g632b17.html', 'https://game24h.vn/choi-nhieu-trong-tuan/lua-va-nuoc-c132g2568b17.html', 'https://game24h.vn/choi-nhieu-trong-tuan/lua-va-nuoc-c132g2568b17.html', 'https://game24h.vn/choi-nhieu-trong-tuan/pokemon-go-2-c132g3482b17.html', 'https://game24h.vn/choi-nhieu-trong-tuan/pokemon-go-2-c132g3482b17.html', 'https://game24h.vn/choi-nhieu-trong-tuan/chu-khi-buon-giang-sinh-c132g2078b17.html', 'https://game24h.vn/choi-nhieu-trong-tuan/chu-khi-buon-giang-sinh-c132g2078b17.html', 'https://game24h.vn/choi-nhieu-trong-tuan/dao-vang-c132g3340b17.html', 'https://game24h.vn/choi-nhieu-trong-tuan/dao-vang-c132g3340b17.html', 'https://game24h.vn/choi-nhieu-trong-tuan/thoi-trang-instagram-c132g4066b17.html', 'https://game24h.vn/choi-nhieu-trong-tuan/thoi-trang-instagram-c132g4066b17.html', 'https://game24h.vn/choi-nhieu-trong-tuan-c132box61a2.html', 'javascript: void(0);', 'javascript: void(0);', 'javascript: void(0);', 'https://game24h.vn/game-ban-sung/pubg-minecraft-c148g4050b220.html', 'https://game24h.vn/game-ban-sung/pubg-minecraft-c148g4050b220.html', 'https://game24h.vn/game-ban-sung/nhay-du-ban-sung-free-fire-c148g4514b220.html', 'https://game24h.vn/game-ban-sung/nhay-du-ban-sung-free-fire-c148g4514b220.html', 'https://game24h.vn/game-ban-sung/tay-sung-giang-sinh-c148g2074b220.html', 'https://game24h.vn/game-ban-sung/tay-sung-giang-sinh-c148g2074b220.html', 'https://game24h.vn/game-ban-sung/ninja-rua-va-sieu-nhan-c148g2494b220.html', 'https://game24h.vn/game-ban-sung/ninja-rua-va-sieu-nhan-c148g2494b220.html', 'https://game24h.vn/game-ban-sung/dao-quai-vat-c148g2604b220.html', 'https://game24h.vn/game-ban-sung/dao-quai-vat-c148g2604b220.html', 'https://game24h.vn/game-ban-sung/lego-bao-ve-ngan-ha-c148g4058b220.html', 'https://game24h.vn/game-ban-sung/lego-bao-ve-ngan-ha-c148g4058b220.html', 'https://game24h.vn/game-ban-sung/sinh-ton-online-c148g4228b220.html', 'https://game24h.vn/game-ban-sung/sinh-ton-online-c148g4228b220.html', 'https://game24h.vn/game-ban-sung/minecraft-ban-cung-c148g4287b220.html', 'https://game24h.vn/game-ban-sung/minecraft-ban-cung-c148g4287b220.html', 'https://game24h.vn/game-ban-sung/dac-nhiem-swat-3-c148g2039b220.html', 'https://game24h.vn/game-ban-sung/dac-nhiem-swat-3-c148g2039b220.html', 'https://game24h.vn/game-ban-sung/chuong-trinh-thuong-nhat-c148g3281b220.html', 'https://game24h.vn/game-ban-sung/chuong-trinh-thuong-nhat-c148g3281b220.html', 'https://game24h.vn/game-ban-sung-c148.html', 'javascript: void(0);', 'javascript: void(0);', 'javascript: void(0);', 'https://game24h.vn/ban-gai/trang-tri-nha-giang-sinh-c109g2066b35.html', 'https://game24h.vn/ban-gai/trang-tri-nha-giang-sinh-c109g2066b35.html', 'https://game24h.vn/ban-gai/cua-hang-giang-sinh-c109g2056b35.html', 'https://game24h.vn/ban-gai/cua-hang-giang-sinh-c109g2056b35.html', 'https://game24h.vn/ban-gai/nha-hang-giang-sinh-c109g2079b35.html', 'https://game24h.vn/ban-gai/nha-hang-giang-sinh-c109g2079b35.html', 'https://game24h.vn/ban-gai/cung-don-giang-sinh-c109g561b35.html', 'https://game24h.vn/ban-gai/cung-don-giang-sinh-c109g561b35.html', 'https://game24h.vn/ban-gai/don-nha-mung-giang-sinh-c109g1305b35.html', 'https://game24h.vn/ban-gai/don-nha-mung-giang-sinh-c109g1305b35.html', 'https://game24h.vn/ban-gai/don-nha-don-giang-sinh-c109g3010b35.html', 'https://game24h.vn/ban-gai/don-nha-don-giang-sinh-c109g3010b35.html', 'https://game24h.vn/ban-gai/don-nha-mung-giang-sinh-2-c109g1672b35.html', 'https://game24h.vn/ban-gai/don-nha-mung-giang-sinh-2-c109g1672b35.html', 'https://game24h.vn/ban-gai/giang-sinh-di-shopping-c109g2464b35.html', 'https://game24h.vn/ban-gai/giang-sinh-di-shopping-c109g2464b35.html', 'https://game24h.vn/ban-gai/thoi-trang-instagram-c109g4066b35.html', 'https://game24h.vn/ban-gai/thoi-trang-instagram-c109g4066b35.html', 'https://game24h.vn/ban-gai/tap-ve-tranh-c109g2578b35.html', 'https://game24h.vn/ban-gai/tap-ve-tranh-c109g2578b35.html', 'https://game24h.vn/ban-gai-c109.html', 'javascript: void(0);', 'javascript: void(0);', 'javascript: void(0);', 'https://game24h.vn/game-thoi-trang/thoi-trang-naruto-2-c146g3091b214.html', 'https://game24h.vn/game-thoi-trang/thoi-trang-naruto-2-c146g3091b214.html', 'https://game24h.vn/game-thoi-trang/co-nang-giang-sinh-c146g2077b214.html', 'https://game24h.vn/game-thoi-trang/co-nang-giang-sinh-c146g2077b214.html', 'https://game24h.vn/game-thoi-trang/lam-toc-don-giang-sinh-c146g3059b214.html', 'https://game24h.vn/game-thoi-trang/lam-toc-don-giang-sinh-c146g3059b214.html', 'https://game24h.vn/game-thoi-trang/lam-toc-ngay-giang-sinh-c146g3012b214.html', 'https://game24h.vn/game-thoi-trang/lam-toc-ngay-giang-sinh-c146g3012b214.html', 'https://game24h.vn/game-thoi-trang/co-be-lo-lem-c146g1108b214.html', 'https://game24h.vn/game-thoi-trang/co-be-lo-lem-c146g1108b214.html', 'https://game24h.vn/game-thoi-trang/lam-dep-cho-co-giao-c146g3245b214.html', 'https://game24h.vn/game-thoi-trang/lam-dep-cho-co-giao-c146g3245b214.html', 'https://game24h.vn/game-thoi-trang/thoi-trang-instagram-c146g4066b214.html', 'https://game24h.vn/game-thoi-trang/thoi-trang-instagram-c146g4066b214.html', 'https://game24h.vn/game-thoi-trang/nhiep-anh-gia-nghiep-du-c146g1393b214.html', 'https://game24h.vn/game-thoi-trang/nhiep-anh-gia-nghiep-du-c146g1393b214.html', 'https://game24h.vn/game-thoi-trang/thoi-trang-naruto-3-c146g3092b214.html', 'https://game24h.vn/game-thoi-trang/thoi-trang-naruto-3-c146g3092b214.html', 'https://game24h.vn/game-thoi-trang/thoi-trang-me-va-be-2-c146g3916b214.html', 'https://game24h.vn/game-thoi-trang/thoi-trang-me-va-be-2-c146g3916b214.html', 'https://game24h.vn/game-thoi-trang-c146.html', 'javascript: void(0);', 'javascript: void(0);', 'javascript: void(0);', 'https://game24h.vn/dua-xe/big-car-c117g4055b50.html', 'https://game24h.vn/dua-xe/big-car-c117g4055b50.html', 'https://game24h.vn/dua-xe/cho-qua-giang-sinh-c117g2461b50.html', 'https://game24h.vn/dua-xe/cho-qua-giang-sinh-c117g2461b50.html', 'https://game24h.vn/dua-xe/naruto-dua-xe-c117g2972b50.html', 'https://game24h.vn/dua-xe/naruto-dua-xe-c117g2972b50.html', 'https://game24h.vn/dua-xe/rap-xiec-trung-uong-c117g2119b50.html', 'https://game24h.vn/dua-xe/rap-xiec-trung-uong-c117g2119b50.html', 'https://game24h.vn/dua-xe/may-bay-sieu-dang-c117g4221b50.html', 'https://game24h.vn/dua-xe/may-bay-sieu-dang-c117g4221b50.html', 'https://game24h.vn/dua-xe/dau-gau-lai-xe-c117g1931b50.html', 'https://game24h.vn/dua-xe/dau-gau-lai-xe-c117g1931b50.html', 'https://game24h.vn/dua-xe/dua-xe-mini-c117g3476b50.html', 'https://game24h.vn/dua-xe/dua-xe-mini-c117g3476b50.html', 'https://game24h.vn/dua-xe/dua-xe-mo-hinh-c117g1233b50.html', 'https://game24h.vn/dua-xe/dua-xe-mo-hinh-c117g1233b50.html', 'https://game24h.vn/dua-xe/tay-dua-lieu-linh-c117g1740b50.html', 'https://game24h.vn/dua-xe/tay-dua-lieu-linh-c117g1740b50.html', 'https://game24h.vn/dua-xe/monster-truck-c117g4180b50.html', 'https://game24h.vn/dua-xe/monster-truck-c117g4180b50.html', 'https://game24h.vn/dua-xe-c117.html', 'javascript: void(0);', 'javascript: void(0);', 'javascript: void(0);', 'https://game24h.vn/game-nau-an/banh-kem-nha-giang-sinh-c147g2467b217.html', 'https://game24h.vn/game-nau-an/banh-kem-nha-giang-sinh-c147g2467b217.html', 'https://game24h.vn/game-nau-an/banh-vong-giang-sinh-c147g3009b217.html', 'https://game24h.vn/game-nau-an/banh-vong-giang-sinh-c147g3009b217.html', 'https://game24h.vn/game-nau-an/lam-banh-quy-giang-sinh-c147g2076b217.html', 'https://game24h.vn/game-nau-an/lam-banh-quy-giang-sinh-c147g2076b217.html', 'https://game24h.vn/game-nau-an/thuc-don-giang-sinh-c147g2471b217.html', 'https://game24h.vn/game-nau-an/thuc-don-giang-sinh-c147g2471b217.html', 'https://game24h.vn/game-nau-an/lam-banh-giang-sinh-c147g926b217.html', 'https://game24h.vn/game-nau-an/lam-banh-giang-sinh-c147g926b217.html', 'https://game24h.vn/game-nau-an/lam-banh-ngot-giang-sinh-c147g2459b217.html', 'https://game24h.vn/game-nau-an/lam-banh-ngot-giang-sinh-c147g2459b217.html', 'https://game24h.vn/game-nau-an/banh-giang-sinh-nhieu-tang-c147g3460b217.html', 'https://game24h.vn/game-nau-an/banh-giang-sinh-nhieu-tang-c147g3460b217.html', 'https://game24h.vn/game-nau-an/lam-banh-khoai-tay-c147g1942b217.html', 'https://game24h.vn/game-nau-an/lam-banh-khoai-tay-c147g1942b217.html', 'https://game24h.vn/game-nau-an/lam-banh-hamburger-c147g2197b217.html', 'https://game24h.vn/game-nau-an/lam-banh-hamburger-c147g2197b217.html', 'https://game24h.vn/game-nau-an/banh-kem-tinh-yeu-c147g2024b217.html', 'https://game24h.vn/game-nau-an/banh-kem-tinh-yeu-c147g2024b217.html', 'https://game24h.vn/game-nau-an-c147.html', 'javascript: void(0);', 'javascript: void(0);', 'javascript: void(0);', 'https://game24h.vn/chien-thuat/dat-bom-it-5-c118g2340b41.html', 'https://game24h.vn/chien-thuat/dat-bom-it-5-c118g2340b41.html', 'https://game24h.vn/chien-thuat/pubg-minecraft-c118g4050b41.html', 'https://game24h.vn/chien-thuat/pubg-minecraft-c118g4050b41.html', 'https://game24h.vn/chien-thuat/vua-hai-tac-c118g2643b41.html', 'https://game24h.vn/chien-thuat/vua-hai-tac-c118g2643b41.html', 'https://game24h.vn/chien-thuat/con-duong-giang-sinh-2-c118g2067b41.html', 'https://game24h.vn/chien-thuat/con-duong-giang-sinh-2-c118g2067b41.html', 'https://game24h.vn/chien-thuat/con-duong-giang-sinh-c118g921b41.html', 'https://game24h.vn/chien-thuat/con-duong-giang-sinh-c118g921b41.html', 'https://game24h.vn/chien-thuat/giai-cuu-tu-nhan-giang-sinh-c118g2463b41.html', 'https://game24h.vn/chien-thuat/giai-cuu-tu-nhan-giang-sinh-c118g2463b41.html', 'https://game24h.vn/chien-thuat/sinh-ton-online-c118g4228b41.html', 'https://game24h.vn/chien-thuat/sinh-ton-online-c118g4228b41.html', 'https://game24h.vn/chien-thuat/pokemon-go-2-c118g3482b41.html', 'https://game24h.vn/chien-thuat/pokemon-go-2-c118g3482b41.html', 'https://game24h.vn/chien-thuat/cong-nhan-cho-hang-6-c118g3799b41.html', 'https://game24h.vn/chien-thuat/cong-nhan-cho-hang-6-c118g3799b41.html', 'https://game24h.vn/chien-thuat/ninja-meo-phieu-luu-c118g4312b41.html', 'https://game24h.vn/chien-thuat/ninja-meo-phieu-luu-c118g4312b41.html', 'https://game24h.vn/chien-thuat-c118.html', 'javascript: void(0);', 'javascript: void(0);', 'javascript: void(0);', 'https://game24h.vn/tri-tue/pikachu-c119g1285b32.html', 'https://game24h.vn/tri-tue/pikachu-c119g1285b32.html', 'https://game24h.vn/tri-tue/chu-khi-buon-giang-sinh-c119g2078b32.html', 'https://game24h.vn/tri-tue/chu-khi-buon-giang-sinh-c119g2078b32.html', 'https://game24h.vn/tri-tue/tim-qua-giang-sinh-c119g2069b32.html', 'https://game24h.vn/tri-tue/tim-qua-giang-sinh-c119g2069b32.html', 'https://game24h.vn/tri-tue/ngoi-sao-giang-sinh-c119g3020b32.html', 'https://game24h.vn/tri-tue/ngoi-sao-giang-sinh-c119g3020b32.html', 'https://game24h.vn/tri-tue/pikachu-dong-vat-c119g2305b32.html', 'https://game24h.vn/tri-tue/pikachu-dong-vat-c119g2305b32.html', 'https://game24h.vn/tri-tue/pikachu-trai-cay-c119g2576b32.html', 'https://game24h.vn/tri-tue/pikachu-trai-cay-c119g2576b32.html', 'https://game24h.vn/tri-tue/pikachu-halloween-c119g2807b32.html', 'https://game24h.vn/tri-tue/pikachu-halloween-c119g2807b32.html', 'https://game24h.vn/tri-tue/pikachu-tinh-yeu-c119g2371b32.html', 'https://game24h.vn/tri-tue/pikachu-tinh-yeu-c119g2371b32.html', 'https://game24h.vn/tri-tue/ninja-muu-tri-3-c119g1555b32.html', 'https://game24h.vn/tri-tue/ninja-muu-tri-3-c119g1555b32.html', 'https://game24h.vn/tri-tue/cuoc-chien-gia-suc-c119g3401b32.html', 'https://game24h.vn/tri-tue/cuoc-chien-gia-suc-c119g3401b32.html', 'https://game24h.vn/tri-tue-c119.html', 'javascript: void(0);', 'javascript: void(0);', 'javascript: void(0);', 'https://game24h.vn/vui-nhon/magic-tiles-giang-sinh-c124g4356b38.html', 'https://game24h.vn/vui-nhon/magic-tiles-giang-sinh-c124g4356b38.html', 'https://game24h.vn/vui-nhon/naruto-oan-tu-ti-c124g2706b38.html', 'https://game24h.vn/vui-nhon/naruto-oan-tu-ti-c124g2706b38.html', 'https://game24h.vn/vui-nhon/giao-qua-giang-sinh-c124g2021b38.html', 'https://game24h.vn/vui-nhon/giao-qua-giang-sinh-c124g2021b38.html', 'https://game24h.vn/vui-nhon/dan-nhac-giang-sinh-c124g407b38.html', 'https://game24h.vn/vui-nhon/dan-nhac-giang-sinh-c124g407b38.html', 'https://game24h.vn/vui-nhon/bao-ve-qua-giang-sinh-c124g2068b38.html', 'https://game24h.vn/vui-nhon/bao-ve-qua-giang-sinh-c124g2068b38.html', 'https://game24h.vn/vui-nhon/giet-thoi-gian-ngay-giang-sinh-c124g3004b38.html', 'https://game24h.vn/vui-nhon/giet-thoi-gian-ngay-giang-sinh-c124g3004b38.html', 'https://game24h.vn/vui-nhon/giang-sinh-dai-duong-c124g1684b38.html', 'https://game24h.vn/vui-nhon/giang-sinh-dai-duong-c124g1684b38.html', 'https://game24h.vn/vui-nhon/do-vui-giang-sinh-c124g3013b38.html', 'https://game24h.vn/vui-nhon/do-vui-giang-sinh-c124g3013b38.html', 'https://game24h.vn/vui-nhon/leo-cay-giang-sinh-c124g2468b38.html', 'https://game24h.vn/vui-nhon/leo-cay-giang-sinh-c124g2468b38.html', 'https://game24h.vn/vui-nhon/dao-vang-ngay-tet-c124g1339b38.html', 'https://game24h.vn/vui-nhon/dao-vang-ngay-tet-c124g1339b38.html', 'https://game24h.vn/vui-nhon-c124.html', 'javascript: void(0);', 'javascript: void(0);', 'javascript: void(0);', 'https://game24h.vn/game-hanh-dong/among-us-4-c108g4569b20.html', 'https://game24h.vn/game-hanh-dong/among-us-4-c108g4569b20.html', 'https://game24h.vn/game-hanh-dong/tron-tu-sieu-hang-c108g4557b20.html', 'https://game24h.vn/game-hanh-dong/tron-tu-sieu-hang-c108g4557b20.html', 'https://game24h.vn/game-hanh-dong/nguoi-hung-dem-giang-sinh-c108g1685b20.html', 'https://game24h.vn/game-hanh-dong/nguoi-hung-dem-giang-sinh-c108g1685b20.html', 'https://game24h.vn/game-hanh-dong/giang-sinh-cua-ba-ngoai-c108g2462b20.html', 'https://game24h.vn/game-hanh-dong/giang-sinh-cua-ba-ngoai-c108g2462b20.html', 'https://game24h.vn/game-hanh-dong/giai-cuu-giang-sinh-c108g1680b20.html', 'https://game24h.vn/game-hanh-dong/giai-cuu-giang-sinh-c108g1680b20.html', 'https://game24h.vn/game-hanh-dong/ben-10-quai-vat-ho-loch-ness-c108g138b20.html', 'https://game24h.vn/game-hanh-dong/ben-10-quai-vat-ho-loch-ness-c108g138b20.html', 'https://game24h.vn/game-hanh-dong/naruto-quyet-dau-c108g2562b20.html', 'https://game24h.vn/game-hanh-dong/naruto-quyet-dau-c108g2562b20.html', 'https://game24h.vn/game-hanh-dong/giai-cuu-cong-chua-c108g2005b20.html', 'https://game24h.vn/game-hanh-dong/giai-cuu-cong-chua-c108g2005b20.html', 'https://game24h.vn/game-hanh-dong/dai-chien-robot-2-c108g3839b20.html', 'https://game24h.vn/game-hanh-dong/dai-chien-robot-2-c108g3839b20.html', 'https://game24h.vn/game-hanh-dong/sieu-nhan-kamen-rider-c108g2837b20.html', 'https://game24h.vn/game-hanh-dong/sieu-nhan-kamen-rider-c108g2837b20.html', 'https://game24h.vn/game-hanh-dong-c108.html', 'javascript: void(0);', 'javascript: void(0);', 'javascript: void(0);', 'https://game24h.vn/game-the-thao/giai-bong-da-giang-sinh-c125g1291b29.html', 'https://game24h.vn/game-the-thao/giai-bong-da-giang-sinh-c125g1291b29.html', 'https://game24h.vn/game-the-thao/the-thao-mao-hiem-c125g347b29.html', 'https://game24h.vn/game-the-thao/the-thao-mao-hiem-c125g347b29.html', 'https://game24h.vn/game-the-thao/nhay-cau-vach-da-c125g4219b29.html', 'https://game24h.vn/game-the-thao/nhay-cau-vach-da-c125g4219b29.html', 'https://game24h.vn/game-the-thao/bong-ro-meo-c125g847b29.html', 'https://game24h.vn/game-the-thao/bong-ro-meo-c125g847b29.html', 'https://game24h.vn/game-the-thao/nguoi-dep-choi-golf-c125g1932b29.html', 'https://game24h.vn/game-the-thao/nguoi-dep-choi-golf-c125g1932b29.html', 'https://game24h.vn/game-the-thao/ghi-ban-dang-cap-c125g2433b29.html', 'https://game24h.vn/game-the-thao/ghi-ban-dang-cap-c125g2433b29.html', 'https://game24h.vn/game-the-thao/ech-chay-dua-c125g2689b29.html', 'https://game24h.vn/game-the-thao/ech-chay-dua-c125g2689b29.html', 'https://game24h.vn/game-the-thao/tennis-3d-c125g1383b29.html', 'https://game24h.vn/game-the-thao/tennis-3d-c125g1383b29.html', 'https://game24h.vn/game-the-thao/lop-hoc-boxing-c125g1400b29.html', 'https://game24h.vn/game-the-thao/lop-hoc-boxing-c125g1400b29.html', 'https://game24h.vn/game-the-thao/bi-a-pool-9-bi-c125g196b29.html', 'https://game24h.vn/game-the-thao/bi-a-pool-9-bi-c125g196b29.html', 'https://game24h.vn/game-the-thao-c125.html', '/top-game-thu-bxh1g0.html ', '/thong-tin-tai-khoan-a13.html?account=dinhdauchoie', '/thong-tin-tai-khoan-a13.html?account=dinhdauchoie', '/thong-tin-tai-khoan-a13.html?account=tamchoigame', '/thong-tin-tai-khoan-a13.html?account=tamchoigame', '/thong-tin-tai-khoan-a13.html?account=mrteo333', '/thong-tin-tai-khoan-a13.html?account=mrteo333', '/thong-tin-tai-khoan-a13.html?account=nguyenbao21', '/thong-tin-tai-khoan-a13.html?account=nguyenbao21', '/thong-tin-tai-khoan-a13.html?account=ductri08', '/thong-tin-tai-khoan-a13.html?account=ductri08', '/thong-tin-tai-khoan-a13.html?account=truonghuung', '/thong-tin-tai-khoan-a13.html?account=truonghuung', '/thong-tin-tai-khoan-a13.html?account=anhchanhne', '/thong-tin-tai-khoan-a13.html?account=anhchanhne', '/thong-tin-tai-khoan-a13.html?account=ngocthoai658', '/thong-tin-tai-khoan-a13.html?account=ngocthoai658', '/thong-tin-tai-khoan-a13.html?account=Minh', '/thong-tin-tai-khoan-a13.html?account=Minh', '/thong-tin-tai-khoan-a13.html?account=tuong1073', '/thong-tin-tai-khoan-a13.html?account=tuong1073', '/top-game-thu-bxh1g0.html ', 'https://www.facebook.com/gamehay24h', 'https://game24h.vn/2-nguoi-choi-c126.html', 'https://game24h.vn/game-bai-c168.html', 'https://game24h.vn/game-ban-ca-c169.html', 'https://game24h.vn/ban-gai-c109.html', 'https://game24h.vn/game-ban-sung-c148.html', 'https://game24h.vn/chien-thuat-c118.html', 'https://game24h.vn/chu-khi-buon-c164.html', 'https://game24h.vn/game-cong-chua-c172.html', 'https://game24h.vn/game-dao-vang-c173.html', 'https://game24h.vn/dua-xe-c117.html', 'https://game24h.vn/game-giang-sinh-c163.html', 'https://game24h.vn/game-halloween-c162.html', 'https://game24h.vn/game-hanh-dong-c108.html', 'https://game24h.vn/game-hoat-hinh-c151.html', 'https://game24h.vn/game-kinh-di-chet-choc-c123.html', 'https://game24h.vn/game-lam-banh-c174.html', 'https://game24h.vn/game-naruto-c166.html', 'https://game24h.vn/game-nau-an-c147.html', 'https://game24h.vn/nhanh-tay-c120.html', 'https://game24h.vn/game-ninja-c171.html', 'https://game24h.vn/phieu-luu-c110.html', 'https://game24h.vn/game-sieu-nhan-c170.html', 'https://game24h.vn/game-tet-c111.html', 'https://game24h.vn/game-the-thao-c125.html', 'https://game24h.vn/game-thoi-trang-c146.html', 'https://game24h.vn/tinh-diem-c145.html', 'https://game24h.vn/tri-tue-c119.html', 'https://game24h.vn/unity-3d-c153.html', 'https://game24h.vn/game-van-phong-c150.html', 'https://game24h.vn/vui-nhon-c124.html', 'https://game24h.vn/game-y8-c161.html', 'https://game24h.vn/', 'https://m.game24h.vn/', '/ho-tro.html', 'https://game24h.vn/gop-y.html', 'https://quiznhe.com', '/24h_rss/index.html', 'https://game24h.vn/sitemap.html', 'https://game24h.vn/quydinh.html', '#', 'https://xem.vn', 'https://game24h.vn/', 'https://game24h.vn/']\n"
          ],
          "name": "stdout"
        }
      ]
    }
  ]
}