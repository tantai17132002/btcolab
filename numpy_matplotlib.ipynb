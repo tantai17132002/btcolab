{
  "nbformat": 4,
  "nbformat_minor": 0,
  "metadata": {
    "colab": {
      "name": "numpy_matplotlib.ipynb",
      "provenance": [],
      "collapsed_sections": [],
      "authorship_tag": "ABX9TyP5PC21les+Pp1VTXi0kPyj",
      "include_colab_link": true
    },
    "kernelspec": {
      "name": "python3",
      "display_name": "Python 3"
    }
  },
  "cells": [
    {
      "cell_type": "markdown",
      "metadata": {
        "id": "view-in-github",
        "colab_type": "text"
      },
      "source": [
        "<a href=\"https://colab.research.google.com/github/tantai17132002/btcolab/blob/main/numpy_matplotlib.ipynb\" target=\"_parent\"><img src=\"https://colab.research.google.com/assets/colab-badge.svg\" alt=\"Open In Colab\"/></a>"
      ]
    },
    {
      "cell_type": "markdown",
      "metadata": {
        "id": "97Moe1b6_vSs"
      },
      "source": [
        "1.Numpy:"
      ]
    },
    {
      "cell_type": "markdown",
      "metadata": {
        "id": "D4ZbWxsoAAyE"
      },
      "source": [
        "- Tính tổng, hiệu 2 ma trận:"
      ]
    },
    {
      "cell_type": "code",
      "metadata": {
        "id": "h9FMl0mRAZsV",
        "colab": {
          "base_uri": "https://localhost:8080/"
        },
        "outputId": "5a322e7e-5587-4ebe-f325-c5c660dac73f"
      },
      "source": [
        "import numpy as np\r\n",
        "\r\n",
        "\r\n",
        "a = np.array(([(2,3,5,6), (2,7,8,4)]), dtype = int)\r\n",
        "b = np.array(([(2,9,0,1), (7,4,7,8)]), dtype = int)\r\n",
        "print(\"ma trận A= \",a)\r\n",
        "print(\"ma Trận B= \",b)\r\n",
        "print(\"ma trận A+B=\", a+b)\r\n",
        "print(\"ma trận A-B=\", a-b)"
      ],
      "execution_count": null,
      "outputs": [
        {
          "output_type": "stream",
          "text": [
            "ma trận A=  [[2 3 5 6]\n",
            " [2 7 8 4]]\n",
            "ma Trận B=  [[2 9 0 1]\n",
            " [7 4 7 8]]\n",
            "ma trận A+B= [[ 4 12  5  7]\n",
            " [ 9 11 15 12]]\n",
            "ma trận A-B= [[ 0 -6  5  5]\n",
            " [-5  3  1 -4]]\n"
          ],
          "name": "stdout"
        }
      ]
    },
    {
      "cell_type": "markdown",
      "metadata": {
        "id": "YsE8HO60A3bf"
      },
      "source": [
        "- Tính tích 2 ma trận:"
      ]
    },
    {
      "cell_type": "code",
      "metadata": {
        "id": "Rirm2iaIAwoM",
        "colab": {
          "base_uri": "https://localhost:8080/"
        },
        "outputId": "9c30ad60-b4cc-47cd-fa11-7667f1cb412a"
      },
      "source": [
        "c = np.array(([((6,8),(3,9)), ((6,3),(8,3))]), dtype = int)\r\n",
        "d = np.array(([(5,7,3,7), (6,2,7,2)]), dtype = int)\r\n",
        "print(\"ma trận C= \",c)\r\n",
        "print(\"ma trận D= \",d)\r\n",
        "print(\"ma trận C*D= \", c.dot(d))     "
      ],
      "execution_count": null,
      "outputs": [
        {
          "output_type": "stream",
          "text": [
            "ma trận C=  [[[6 8]\n",
            "  [3 9]]\n",
            "\n",
            " [[6 3]\n",
            "  [8 3]]]\n",
            "ma trận D=  [[5 7 3 7]\n",
            " [6 2 7 2]]\n",
            "ma trận C*D=  [[[78 58 74 58]\n",
            "  [69 39 72 39]]\n",
            "\n",
            " [[48 48 39 48]\n",
            "  [58 62 45 62]]]\n"
          ],
          "name": "stdout"
        }
      ]
    },
    {
      "cell_type": "markdown",
      "metadata": {
        "id": "uSPU104iCCvt"
      },
      "source": [
        "- phép chia 2 ma trận:\r\n",
        "\r\n"
      ]
    },
    {
      "cell_type": "code",
      "metadata": {
        "id": "cA6clXuuCCWB",
        "colab": {
          "base_uri": "https://localhost:8080/"
        },
        "outputId": "993a62e3-4f30-47b3-d796-84e437c1e32a"
      },
      "source": [
        "e = np.array([(4,3,2,5),(3,5,6,1)])\r\n",
        "f = np.array([(4,2,5,2),(3,5,2,4)])\r\n",
        "print(\"e/f =\",e/f)\r\n"
      ],
      "execution_count": null,
      "outputs": [
        {
          "output_type": "stream",
          "text": [
            "e/f = [[1.   1.5  0.4  2.5 ]\n",
            " [1.   1.   3.   0.25]]\n"
          ],
          "name": "stdout"
        }
      ]
    },
    {
      "cell_type": "markdown",
      "metadata": {
        "id": "8q42cx0eB6Gi"
      },
      "source": [
        "- tính chuyển vị ma trận:\r\n"
      ]
    },
    {
      "cell_type": "code",
      "metadata": {
        "id": "ummTQeS6Bsbw",
        "colab": {
          "base_uri": "https://localhost:8080/"
        },
        "outputId": "f11f7215-980e-493f-a9c8-1e2be3b3ae23"
      },
      "source": [
        "g = np.array(([(4,6,8,2),(6,3,7,2)]), dtype = int)\r\n",
        "h = np.transpose(g)   \r\n",
        "print(\"ma trận g= \", g)\r\n",
        "print(\"ma trận chuyển vị of g\", h) "
      ],
      "execution_count": null,
      "outputs": [
        {
          "output_type": "stream",
          "text": [
            "ma trận g=  [[4 6 8 2]\n",
            " [6 3 7 2]]\n",
            "ma trận chuyển vị of g [[4 6]\n",
            " [6 3]\n",
            " [8 7]\n",
            " [2 2]]\n"
          ],
          "name": "stdout"
        }
      ]
    },
    {
      "cell_type": "markdown",
      "metadata": {
        "id": "Ma7aLxUCEH9_"
      },
      "source": [
        "2. Matplotlib:"
      ]
    },
    {
      "cell_type": "markdown",
      "metadata": {
        "id": "Sp7LiRWXEO9Z"
      },
      "source": [
        " - Đồ thị hình column:"
      ]
    },
    {
      "cell_type": "code",
      "metadata": {
        "id": "UOiglmpYELj9",
        "colab": {
          "base_uri": "https://localhost:8080/",
          "height": 297
        },
        "outputId": "bbbaf4c4-846c-4e7c-88b0-7307692aea00"
      },
      "source": [
        "import matplotlib.pyplot as plt \r\n",
        "import numpy as np  \r\n",
        "divisions = [\"Banana\", \"Apple\", \"grapes\", \"oranges\",\"Dragon Fruit\"]\r\n",
        "divisions_average_marks = [80,63,72,67,90]\r\n",
        "plt.bar(divisions, divisions_average_marks, color = 'blue')\r\n",
        "plt.title(\"Trung bình mỗi người ăn hoa quả trong 1 năm\")\r\n",
        "plt.xlabel(\"Name hoa quả\")\r\n",
        "plt.ylabel(\"%\")\r\n",
        "plt.show()"
      ],
      "execution_count": null,
      "outputs": [
        {
          "output_type": "display_data",
          "data": {
            "image/png": "[encoded data removed]",
            "text/plain": [
              "<Figure size 432x288 with 1 Axes>"
            ]
          },
          "metadata": {
            "tags": [],
            "needs_background": "light"
          }
        }
      ]
    },
    {
      "cell_type": "markdown",
      "metadata": {
        "id": "s4vgO9bKEZm6"
      },
      "source": [
        "- Đồ thị hình bar"
      ]
    },
    {
      "cell_type": "code",
      "metadata": {
        "id": "tAlB6Z8dEbQd",
        "colab": {
          "base_uri": "https://localhost:8080/",
          "height": 280
        },
        "outputId": "6289f8c1-2011-458a-883f-7a4c4c1f366d"
      },
      "source": [
        "import matplotlib.pyplot as plt\r\n",
        "import numpy as np\r\n",
        "divisions = [\"iphone 12\", \"iphone 12 pro max\", \"iphone 11\", \"iphone 6\", \"iphone 5\"]\r\n",
        "division_average_marks = [70,50,60,80,40]\r\n",
        "boys_average_marks = [60,30,59,38,56]\r\n",
        "\r\n",
        "index = np.arange(5)\r\n",
        "width = 0.20\r\n",
        "\r\n",
        "plt.bar(index, division_average_marks, width, color= 'green', label= 'Việt Nam')\r\n",
        "plt.bar(index+ width, boys_average_marks, width, color = 'red', label= 'Mỹ')\r\n",
        "plt.ylabel(\"%\")\r\n",
        "plt.xlabel(\"Các loại iphone\")\r\n",
        "plt.xticks(index+ width/2, divisions)        \r\n",
        "plt.legend(loc = 'best') \r\n",
        "plt.show()"
      ],
      "execution_count": null,
      "outputs": [
        {
          "output_type": "display_data",
          "data": {
            "image/png": "[encoded data removed]",
            "text/plain": [
              "<Figure size 432x288 with 1 Axes>"
            ]
          },
          "metadata": {
            "tags": [],
            "needs_background": "light"
          }
        }
      ]
    },
    {
      "cell_type": "markdown",
      "metadata": {
        "id": "zc84auJPEqaO"
      },
      "source": [
        "- Đồ thị line:"
      ]
    },
    {
      "cell_type": "code",
      "metadata": {
        "id": "WkNoBK9YEr9O",
        "colab": {
          "base_uri": "https://localhost:8080/",
          "height": 297
        },
        "outputId": "6d513718-89c3-4fc7-b434-8a8e21f81ab9"
      },
      "source": [
        "import matplotlib.pyplot as plt\r\n",
        "import numpy as np\r\n",
        "plt.plot([3,2,3,6],[3,4,2,30])\r\n",
        "plt.title(\"Biểu đồ đường\")\r\n",
        "plt.xlabel(\"Tỉ trọng\")\r\n",
        "plt.ylabel(\"Tỉ lệ %\")\r\n",
        "plt.show()"
      ],
      "execution_count": null,
      "outputs": [
        {
          "output_type": "display_data",
          "data": {
            "image/png": "[encoded data removed]",
            "text/plain": [
              "<Figure size 432x288 with 1 Axes>"
            ]
          },
          "metadata": {
            "tags": [],
            "needs_background": "light"
          }
        }
      ]
    },
    {
      "cell_type": "markdown",
      "metadata": {
        "id": "6T7LR65AE2uT"
      },
      "source": [
        "- Đồ thị box plot:"
      ]
    },
    {
      "cell_type": "code",
      "metadata": {
        "id": "I2SgSwGTFAAp",
        "colab": {
          "base_uri": "https://localhost:8080/",
          "height": 265
        },
        "outputId": "a286f843-682c-4d60-c1ec-ff82ecba3586"
      },
      "source": [
        "u = u\"\"\"index,location,price\r\n",
        "    Apr 25,ASHEVILLE,15.0\r\n",
        "    Apr 25,ASHEVILLE,45.0\r\n",
        "    Apr 25,ASHEVILLE,50.0\r\n",
        "    Apr 25,ASHEVILLE,120.0\r\n",
        "    Apr 25,ASHEVILLE,300.0\"\"\"\r\n",
        "import io\r\n",
        "import pandas as pd\r\n",
        "import matplotlib.pyplot as plt\r\n",
        "\r\n",
        "data = io.StringIO(u)\r\n",
        "\r\n",
        "df = pd.read_csv(data, sep=\",\", index_col=0)\r\n",
        "\r\n",
        "plt.boxplot(df[\"price\"])\r\n",
        "plt.show()"
      ],
      "execution_count": null,
      "outputs": [
        {
          "output_type": "display_data",
          "data": {
            "image/png": "[encoded data removed]",
            "text/plain": [
              "<Figure size 432x288 with 1 Axes>"
            ]
          },
          "metadata": {
            "tags": [],
            "needs_background": "light"
          }
        }
      ]
    }
  ]
}